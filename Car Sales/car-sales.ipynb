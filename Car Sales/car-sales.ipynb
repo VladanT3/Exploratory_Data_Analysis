{
 "cells": [
  {
   "cell_type": "code",
   "execution_count": 26,
   "metadata": {},
   "outputs": [],
   "source": [
    "import pandas as pd\n",
    "import seaborn as sb\n",
    "from matplotlib import pyplot as plt"
   ]
  },
  {
   "cell_type": "code",
   "execution_count": 27,
   "metadata": {},
   "outputs": [
    {
     "data": {
      "text/plain": [
       "(23906, 16)"
      ]
     },
     "execution_count": 27,
     "metadata": {},
     "output_type": "execute_result"
    }
   ],
   "source": [
    "df = pd.read_csv('car-sales.csv')\n",
    "df.shape"
   ]
  },
  {
   "cell_type": "code",
   "execution_count": 28,
   "metadata": {},
   "outputs": [
    {
     "data": {
      "text/html": [
       "<div>\n",
       "<style scoped>\n",
       "    .dataframe tbody tr th:only-of-type {\n",
       "        vertical-align: middle;\n",
       "    }\n",
       "\n",
       "    .dataframe tbody tr th {\n",
       "        vertical-align: top;\n",
       "    }\n",
       "\n",
       "    .dataframe thead th {\n",
       "        text-align: right;\n",
       "    }\n",
       "</style>\n",
       "<table border=\"1\" class=\"dataframe\">\n",
       "  <thead>\n",
       "    <tr style=\"text-align: right;\">\n",
       "      <th></th>\n",
       "      <th>Car_id</th>\n",
       "      <th>Date</th>\n",
       "      <th>Customer Name</th>\n",
       "      <th>Gender</th>\n",
       "      <th>Annual Income</th>\n",
       "      <th>Dealer_Name</th>\n",
       "      <th>Company</th>\n",
       "      <th>Model</th>\n",
       "      <th>Engine</th>\n",
       "      <th>Transmission</th>\n",
       "      <th>Color</th>\n",
       "      <th>Price ($)</th>\n",
       "      <th>Dealer_No</th>\n",
       "      <th>Body Style</th>\n",
       "      <th>Phone</th>\n",
       "      <th>Dealer_Region</th>\n",
       "    </tr>\n",
       "  </thead>\n",
       "  <tbody>\n",
       "    <tr>\n",
       "      <th>0</th>\n",
       "      <td>C_CND_000001</td>\n",
       "      <td>1/2/2022</td>\n",
       "      <td>Geraldine</td>\n",
       "      <td>Male</td>\n",
       "      <td>13500</td>\n",
       "      <td>Buddy Storbeck's Diesel Service Inc</td>\n",
       "      <td>Ford</td>\n",
       "      <td>Expedition</td>\n",
       "      <td>DoubleÂ Overhead Camshaft</td>\n",
       "      <td>Auto</td>\n",
       "      <td>Black</td>\n",
       "      <td>26000</td>\n",
       "      <td>06457-3834</td>\n",
       "      <td>SUV</td>\n",
       "      <td>8264678</td>\n",
       "      <td>Middletown</td>\n",
       "    </tr>\n",
       "    <tr>\n",
       "      <th>1</th>\n",
       "      <td>C_CND_000002</td>\n",
       "      <td>1/2/2022</td>\n",
       "      <td>Gia</td>\n",
       "      <td>Male</td>\n",
       "      <td>1480000</td>\n",
       "      <td>C &amp; M Motors Inc</td>\n",
       "      <td>Dodge</td>\n",
       "      <td>Durango</td>\n",
       "      <td>DoubleÂ Overhead Camshaft</td>\n",
       "      <td>Auto</td>\n",
       "      <td>Black</td>\n",
       "      <td>19000</td>\n",
       "      <td>60504-7114</td>\n",
       "      <td>SUV</td>\n",
       "      <td>6848189</td>\n",
       "      <td>Aurora</td>\n",
       "    </tr>\n",
       "    <tr>\n",
       "      <th>2</th>\n",
       "      <td>C_CND_000003</td>\n",
       "      <td>1/2/2022</td>\n",
       "      <td>Gianna</td>\n",
       "      <td>Male</td>\n",
       "      <td>1035000</td>\n",
       "      <td>Capitol KIA</td>\n",
       "      <td>Cadillac</td>\n",
       "      <td>Eldorado</td>\n",
       "      <td>Overhead Camshaft</td>\n",
       "      <td>Manual</td>\n",
       "      <td>Red</td>\n",
       "      <td>31500</td>\n",
       "      <td>38701-8047</td>\n",
       "      <td>Passenger</td>\n",
       "      <td>7298798</td>\n",
       "      <td>Greenville</td>\n",
       "    </tr>\n",
       "    <tr>\n",
       "      <th>3</th>\n",
       "      <td>C_CND_000004</td>\n",
       "      <td>1/2/2022</td>\n",
       "      <td>Giselle</td>\n",
       "      <td>Male</td>\n",
       "      <td>13500</td>\n",
       "      <td>Chrysler of Tri-Cities</td>\n",
       "      <td>Toyota</td>\n",
       "      <td>Celica</td>\n",
       "      <td>Overhead Camshaft</td>\n",
       "      <td>Manual</td>\n",
       "      <td>Pale White</td>\n",
       "      <td>14000</td>\n",
       "      <td>99301-3882</td>\n",
       "      <td>SUV</td>\n",
       "      <td>6257557</td>\n",
       "      <td>Pasco</td>\n",
       "    </tr>\n",
       "    <tr>\n",
       "      <th>4</th>\n",
       "      <td>C_CND_000005</td>\n",
       "      <td>1/2/2022</td>\n",
       "      <td>Grace</td>\n",
       "      <td>Male</td>\n",
       "      <td>1465000</td>\n",
       "      <td>Chrysler Plymouth</td>\n",
       "      <td>Acura</td>\n",
       "      <td>TL</td>\n",
       "      <td>DoubleÂ Overhead Camshaft</td>\n",
       "      <td>Auto</td>\n",
       "      <td>Red</td>\n",
       "      <td>24500</td>\n",
       "      <td>53546-9427</td>\n",
       "      <td>Hatchback</td>\n",
       "      <td>7081483</td>\n",
       "      <td>Janesville</td>\n",
       "    </tr>\n",
       "  </tbody>\n",
       "</table>\n",
       "</div>"
      ],
      "text/plain": [
       "         Car_id      Date Customer Name Gender  Annual Income  \\\n",
       "0  C_CND_000001  1/2/2022     Geraldine   Male          13500   \n",
       "1  C_CND_000002  1/2/2022           Gia   Male        1480000   \n",
       "2  C_CND_000003  1/2/2022        Gianna   Male        1035000   \n",
       "3  C_CND_000004  1/2/2022       Giselle   Male          13500   \n",
       "4  C_CND_000005  1/2/2022         Grace   Male        1465000   \n",
       "\n",
       "                           Dealer_Name   Company       Model  \\\n",
       "0  Buddy Storbeck's Diesel Service Inc      Ford  Expedition   \n",
       "1                     C & M Motors Inc     Dodge     Durango   \n",
       "2                          Capitol KIA  Cadillac    Eldorado   \n",
       "3               Chrysler of Tri-Cities    Toyota      Celica   \n",
       "4                    Chrysler Plymouth     Acura          TL   \n",
       "\n",
       "                      Engine Transmission       Color  Price ($)  Dealer_No   \\\n",
       "0  DoubleÂ Overhead Camshaft         Auto       Black      26000  06457-3834   \n",
       "1  DoubleÂ Overhead Camshaft         Auto       Black      19000  60504-7114   \n",
       "2          Overhead Camshaft       Manual         Red      31500  38701-8047   \n",
       "3          Overhead Camshaft       Manual  Pale White      14000  99301-3882   \n",
       "4  DoubleÂ Overhead Camshaft         Auto         Red      24500  53546-9427   \n",
       "\n",
       "  Body Style    Phone Dealer_Region  \n",
       "0        SUV  8264678    Middletown  \n",
       "1        SUV  6848189        Aurora  \n",
       "2  Passenger  7298798    Greenville  \n",
       "3        SUV  6257557         Pasco  \n",
       "4  Hatchback  7081483    Janesville  "
      ]
     },
     "execution_count": 28,
     "metadata": {},
     "output_type": "execute_result"
    }
   ],
   "source": [
    "df.head()"
   ]
  },
  {
   "cell_type": "code",
   "execution_count": 29,
   "metadata": {},
   "outputs": [
    {
     "name": "stdout",
     "output_type": "stream",
     "text": [
      "<class 'pandas.core.frame.DataFrame'>\n",
      "RangeIndex: 23906 entries, 0 to 23905\n",
      "Data columns (total 16 columns):\n",
      " #   Column         Non-Null Count  Dtype \n",
      "---  ------         --------------  ----- \n",
      " 0   Car_id         23906 non-null  object\n",
      " 1   Date           23906 non-null  object\n",
      " 2   Customer Name  23905 non-null  object\n",
      " 3   Gender         23906 non-null  object\n",
      " 4   Annual Income  23906 non-null  int64 \n",
      " 5   Dealer_Name    23906 non-null  object\n",
      " 6   Company        23906 non-null  object\n",
      " 7   Model          23906 non-null  object\n",
      " 8   Engine         23906 non-null  object\n",
      " 9   Transmission   23906 non-null  object\n",
      " 10  Color          23906 non-null  object\n",
      " 11  Price ($)      23906 non-null  int64 \n",
      " 12  Dealer_No      23906 non-null  object\n",
      " 13  Body Style     23906 non-null  object\n",
      " 14  Phone          23906 non-null  int64 \n",
      " 15  Dealer_Region  23906 non-null  object\n",
      "dtypes: int64(3), object(13)\n",
      "memory usage: 2.9+ MB\n"
     ]
    }
   ],
   "source": [
    "df.info()"
   ]
  },
  {
   "cell_type": "code",
   "execution_count": 30,
   "metadata": {},
   "outputs": [
    {
     "data": {
      "text/plain": [
       "count     23906\n",
       "unique        2\n",
       "top        Male\n",
       "freq      18798\n",
       "Name: Gender, dtype: object"
      ]
     },
     "execution_count": 30,
     "metadata": {},
     "output_type": "execute_result"
    }
   ],
   "source": [
    "df.Gender.describe()"
   ]
  },
  {
   "cell_type": "code",
   "execution_count": 31,
   "metadata": {},
   "outputs": [
    {
     "data": {
      "text/plain": [
       "(851184.0442068306, 760000.0)"
      ]
     },
     "execution_count": 31,
     "metadata": {},
     "output_type": "execute_result"
    }
   ],
   "source": [
    "df[df.Gender == 'Male']['Annual Income'].mean(), df[df.Gender == 'Male']['Annual Income'].median()"
   ]
  },
  {
   "cell_type": "code",
   "execution_count": 32,
   "metadata": {},
   "outputs": [
    {
     "data": {
      "text/plain": [
       "(755973.021339076, 665000.0)"
      ]
     },
     "execution_count": 32,
     "metadata": {},
     "output_type": "execute_result"
    }
   ],
   "source": [
    "df[df.Gender == 'Female']['Annual Income'].mean(), df[df.Gender == 'Female']['Annual Income'].median()"
   ]
  },
  {
   "cell_type": "code",
   "execution_count": 33,
   "metadata": {},
   "outputs": [
    {
     "data": {
      "text/plain": [
       "count    2.390600e+04\n",
       "mean     8.308403e+05\n",
       "std      7.200064e+05\n",
       "min      1.008000e+04\n",
       "25%      3.860000e+05\n",
       "50%      7.350000e+05\n",
       "75%      1.175750e+06\n",
       "max      1.120000e+07\n",
       "Name: Annual Income, dtype: float64"
      ]
     },
     "execution_count": 33,
     "metadata": {},
     "output_type": "execute_result"
    }
   ],
   "source": [
    "df['Annual Income'].describe()"
   ]
  },
  {
   "cell_type": "code",
   "execution_count": 34,
   "metadata": {},
   "outputs": [
    {
     "data": {
      "text/plain": [
       "count    23906.000000\n",
       "mean       830.840285\n",
       "std        720.006395\n",
       "min         10.080000\n",
       "25%        386.000000\n",
       "50%        735.000000\n",
       "75%       1175.750000\n",
       "max      11200.000000\n",
       "Name: Annual Income in thousands, dtype: float64"
      ]
     },
     "execution_count": 34,
     "metadata": {},
     "output_type": "execute_result"
    }
   ],
   "source": [
    "df['Annual Income in thousands'] = df['Annual Income'] / 1000\n",
    "df['Annual Income in thousands'].describe()"
   ]
  },
  {
   "cell_type": "code",
   "execution_count": 35,
   "metadata": {},
   "outputs": [
    {
     "data": {
      "image/png": "[encoded data removed]",
      "text/plain": [
       "<Figure size 640x480 with 1 Axes>"
      ]
     },
     "metadata": {},
     "output_type": "display_data"
    }
   ],
   "source": [
    "sb.histplot(df['Annual Income in thousands'])\n",
    "\n",
    "plt.show()"
   ]
  },
  {
   "cell_type": "code",
   "execution_count": 36,
   "metadata": {},
   "outputs": [
    {
     "data": {
      "text/html": [
       "<div>\n",
       "<style scoped>\n",
       "    .dataframe tbody tr th:only-of-type {\n",
       "        vertical-align: middle;\n",
       "    }\n",
       "\n",
       "    .dataframe tbody tr th {\n",
       "        vertical-align: top;\n",
       "    }\n",
       "\n",
       "    .dataframe thead th {\n",
       "        text-align: right;\n",
       "    }\n",
       "</style>\n",
       "<table border=\"1\" class=\"dataframe\">\n",
       "  <thead>\n",
       "    <tr style=\"text-align: right;\">\n",
       "      <th></th>\n",
       "      <th>Car_id</th>\n",
       "      <th>Date</th>\n",
       "      <th>Customer Name</th>\n",
       "      <th>Gender</th>\n",
       "      <th>Annual Income</th>\n",
       "      <th>Dealer_Name</th>\n",
       "      <th>Company</th>\n",
       "      <th>Model</th>\n",
       "      <th>Engine</th>\n",
       "      <th>Transmission</th>\n",
       "      <th>Color</th>\n",
       "      <th>Price ($)</th>\n",
       "      <th>Dealer_No</th>\n",
       "      <th>Body Style</th>\n",
       "      <th>Phone</th>\n",
       "      <th>Dealer_Region</th>\n",
       "      <th>Annual Income in thousands</th>\n",
       "      <th>Annual Income ($k) z-score</th>\n",
       "    </tr>\n",
       "  </thead>\n",
       "  <tbody>\n",
       "    <tr>\n",
       "      <th>0</th>\n",
       "      <td>C_CND_000001</td>\n",
       "      <td>1/2/2022</td>\n",
       "      <td>Geraldine</td>\n",
       "      <td>Male</td>\n",
       "      <td>13500</td>\n",
       "      <td>Buddy Storbeck's Diesel Service Inc</td>\n",
       "      <td>Ford</td>\n",
       "      <td>Expedition</td>\n",
       "      <td>DoubleÂ Overhead Camshaft</td>\n",
       "      <td>Auto</td>\n",
       "      <td>Black</td>\n",
       "      <td>26000</td>\n",
       "      <td>06457-3834</td>\n",
       "      <td>SUV</td>\n",
       "      <td>8264678</td>\n",
       "      <td>Middletown</td>\n",
       "      <td>13.5</td>\n",
       "      <td>-1.135185</td>\n",
       "    </tr>\n",
       "    <tr>\n",
       "      <th>1</th>\n",
       "      <td>C_CND_000002</td>\n",
       "      <td>1/2/2022</td>\n",
       "      <td>Gia</td>\n",
       "      <td>Male</td>\n",
       "      <td>1480000</td>\n",
       "      <td>C &amp; M Motors Inc</td>\n",
       "      <td>Dodge</td>\n",
       "      <td>Durango</td>\n",
       "      <td>DoubleÂ Overhead Camshaft</td>\n",
       "      <td>Auto</td>\n",
       "      <td>Black</td>\n",
       "      <td>19000</td>\n",
       "      <td>60504-7114</td>\n",
       "      <td>SUV</td>\n",
       "      <td>6848189</td>\n",
       "      <td>Aurora</td>\n",
       "      <td>1480.0</td>\n",
       "      <td>0.901603</td>\n",
       "    </tr>\n",
       "    <tr>\n",
       "      <th>2</th>\n",
       "      <td>C_CND_000003</td>\n",
       "      <td>1/2/2022</td>\n",
       "      <td>Gianna</td>\n",
       "      <td>Male</td>\n",
       "      <td>1035000</td>\n",
       "      <td>Capitol KIA</td>\n",
       "      <td>Cadillac</td>\n",
       "      <td>Eldorado</td>\n",
       "      <td>Overhead Camshaft</td>\n",
       "      <td>Manual</td>\n",
       "      <td>Red</td>\n",
       "      <td>31500</td>\n",
       "      <td>38701-8047</td>\n",
       "      <td>Passenger</td>\n",
       "      <td>7298798</td>\n",
       "      <td>Greenville</td>\n",
       "      <td>1035.0</td>\n",
       "      <td>0.283553</td>\n",
       "    </tr>\n",
       "    <tr>\n",
       "      <th>3</th>\n",
       "      <td>C_CND_000004</td>\n",
       "      <td>1/2/2022</td>\n",
       "      <td>Giselle</td>\n",
       "      <td>Male</td>\n",
       "      <td>13500</td>\n",
       "      <td>Chrysler of Tri-Cities</td>\n",
       "      <td>Toyota</td>\n",
       "      <td>Celica</td>\n",
       "      <td>Overhead Camshaft</td>\n",
       "      <td>Manual</td>\n",
       "      <td>Pale White</td>\n",
       "      <td>14000</td>\n",
       "      <td>99301-3882</td>\n",
       "      <td>SUV</td>\n",
       "      <td>6257557</td>\n",
       "      <td>Pasco</td>\n",
       "      <td>13.5</td>\n",
       "      <td>-1.135185</td>\n",
       "    </tr>\n",
       "    <tr>\n",
       "      <th>4</th>\n",
       "      <td>C_CND_000005</td>\n",
       "      <td>1/2/2022</td>\n",
       "      <td>Grace</td>\n",
       "      <td>Male</td>\n",
       "      <td>1465000</td>\n",
       "      <td>Chrysler Plymouth</td>\n",
       "      <td>Acura</td>\n",
       "      <td>TL</td>\n",
       "      <td>DoubleÂ Overhead Camshaft</td>\n",
       "      <td>Auto</td>\n",
       "      <td>Red</td>\n",
       "      <td>24500</td>\n",
       "      <td>53546-9427</td>\n",
       "      <td>Hatchback</td>\n",
       "      <td>7081483</td>\n",
       "      <td>Janesville</td>\n",
       "      <td>1465.0</td>\n",
       "      <td>0.880770</td>\n",
       "    </tr>\n",
       "  </tbody>\n",
       "</table>\n",
       "</div>"
      ],
      "text/plain": [
       "         Car_id      Date Customer Name Gender  Annual Income  \\\n",
       "0  C_CND_000001  1/2/2022     Geraldine   Male          13500   \n",
       "1  C_CND_000002  1/2/2022           Gia   Male        1480000   \n",
       "2  C_CND_000003  1/2/2022        Gianna   Male        1035000   \n",
       "3  C_CND_000004  1/2/2022       Giselle   Male          13500   \n",
       "4  C_CND_000005  1/2/2022         Grace   Male        1465000   \n",
       "\n",
       "                           Dealer_Name   Company       Model  \\\n",
       "0  Buddy Storbeck's Diesel Service Inc      Ford  Expedition   \n",
       "1                     C & M Motors Inc     Dodge     Durango   \n",
       "2                          Capitol KIA  Cadillac    Eldorado   \n",
       "3               Chrysler of Tri-Cities    Toyota      Celica   \n",
       "4                    Chrysler Plymouth     Acura          TL   \n",
       "\n",
       "                      Engine Transmission       Color  Price ($)  Dealer_No   \\\n",
       "0  DoubleÂ Overhead Camshaft         Auto       Black      26000  06457-3834   \n",
       "1  DoubleÂ Overhead Camshaft         Auto       Black      19000  60504-7114   \n",
       "2          Overhead Camshaft       Manual         Red      31500  38701-8047   \n",
       "3          Overhead Camshaft       Manual  Pale White      14000  99301-3882   \n",
       "4  DoubleÂ Overhead Camshaft         Auto         Red      24500  53546-9427   \n",
       "\n",
       "  Body Style    Phone Dealer_Region  Annual Income in thousands  \\\n",
       "0        SUV  8264678    Middletown                        13.5   \n",
       "1        SUV  6848189        Aurora                      1480.0   \n",
       "2  Passenger  7298798    Greenville                      1035.0   \n",
       "3        SUV  6257557         Pasco                        13.5   \n",
       "4  Hatchback  7081483    Janesville                      1465.0   \n",
       "\n",
       "   Annual Income ($k) z-score  \n",
       "0                   -1.135185  \n",
       "1                    0.901603  \n",
       "2                    0.283553  \n",
       "3                   -1.135185  \n",
       "4                    0.880770  "
      ]
     },
     "execution_count": 36,
     "metadata": {},
     "output_type": "execute_result"
    }
   ],
   "source": [
    "mean = df['Annual Income in thousands'].mean()\n",
    "std = df['Annual Income in thousands'].std()\n",
    "\n",
    "df['Annual Income ($k) z-score'] = (df['Annual Income in thousands'] - mean) / std\n",
    "df.head()"
   ]
  },
  {
   "cell_type": "code",
   "execution_count": 37,
   "metadata": {},
   "outputs": [
    {
     "data": {
      "text/plain": [
       "(336, 18)"
      ]
     },
     "execution_count": 37,
     "metadata": {},
     "output_type": "execute_result"
    }
   ],
   "source": [
    "outliers_z_score = df[(df['Annual Income ($k) z-score'] < -3) | (df['Annual Income ($k) z-score'] > 3)]\n",
    "\n",
    "outliers_z_score.shape"
   ]
  },
  {
   "cell_type": "code",
   "execution_count": 38,
   "metadata": {},
   "outputs": [
    {
     "data": {
      "text/html": [
       "<div>\n",
       "<style scoped>\n",
       "    .dataframe tbody tr th:only-of-type {\n",
       "        vertical-align: middle;\n",
       "    }\n",
       "\n",
       "    .dataframe tbody tr th {\n",
       "        vertical-align: top;\n",
       "    }\n",
       "\n",
       "    .dataframe thead th {\n",
       "        text-align: right;\n",
       "    }\n",
       "</style>\n",
       "<table border=\"1\" class=\"dataframe\">\n",
       "  <thead>\n",
       "    <tr style=\"text-align: right;\">\n",
       "      <th></th>\n",
       "      <th>Car_id</th>\n",
       "      <th>Date</th>\n",
       "      <th>Customer Name</th>\n",
       "      <th>Gender</th>\n",
       "      <th>Annual Income</th>\n",
       "      <th>Dealer_Name</th>\n",
       "      <th>Company</th>\n",
       "      <th>Model</th>\n",
       "      <th>Engine</th>\n",
       "      <th>Transmission</th>\n",
       "      <th>Color</th>\n",
       "      <th>Price ($)</th>\n",
       "      <th>Dealer_No</th>\n",
       "      <th>Body Style</th>\n",
       "      <th>Phone</th>\n",
       "      <th>Dealer_Region</th>\n",
       "      <th>Annual Income in thousands</th>\n",
       "      <th>Annual Income ($k) z-score</th>\n",
       "      <th>Annual Income ($k) modified z-score</th>\n",
       "    </tr>\n",
       "  </thead>\n",
       "  <tbody>\n",
       "    <tr>\n",
       "      <th>0</th>\n",
       "      <td>C_CND_000001</td>\n",
       "      <td>1/2/2022</td>\n",
       "      <td>Geraldine</td>\n",
       "      <td>Male</td>\n",
       "      <td>13500</td>\n",
       "      <td>Buddy Storbeck's Diesel Service Inc</td>\n",
       "      <td>Ford</td>\n",
       "      <td>Expedition</td>\n",
       "      <td>DoubleÂ Overhead Camshaft</td>\n",
       "      <td>Auto</td>\n",
       "      <td>Black</td>\n",
       "      <td>26000</td>\n",
       "      <td>06457-3834</td>\n",
       "      <td>SUV</td>\n",
       "      <td>8264678</td>\n",
       "      <td>Middletown</td>\n",
       "      <td>13.5</td>\n",
       "      <td>-1.135185</td>\n",
       "      <td>-1.232030</td>\n",
       "    </tr>\n",
       "    <tr>\n",
       "      <th>1</th>\n",
       "      <td>C_CND_000002</td>\n",
       "      <td>1/2/2022</td>\n",
       "      <td>Gia</td>\n",
       "      <td>Male</td>\n",
       "      <td>1480000</td>\n",
       "      <td>C &amp; M Motors Inc</td>\n",
       "      <td>Dodge</td>\n",
       "      <td>Durango</td>\n",
       "      <td>DoubleÂ Overhead Camshaft</td>\n",
       "      <td>Auto</td>\n",
       "      <td>Black</td>\n",
       "      <td>19000</td>\n",
       "      <td>60504-7114</td>\n",
       "      <td>SUV</td>\n",
       "      <td>6848189</td>\n",
       "      <td>Aurora</td>\n",
       "      <td>1480.0</td>\n",
       "      <td>0.901603</td>\n",
       "      <td>1.272158</td>\n",
       "    </tr>\n",
       "    <tr>\n",
       "      <th>2</th>\n",
       "      <td>C_CND_000003</td>\n",
       "      <td>1/2/2022</td>\n",
       "      <td>Gianna</td>\n",
       "      <td>Male</td>\n",
       "      <td>1035000</td>\n",
       "      <td>Capitol KIA</td>\n",
       "      <td>Cadillac</td>\n",
       "      <td>Eldorado</td>\n",
       "      <td>Overhead Camshaft</td>\n",
       "      <td>Manual</td>\n",
       "      <td>Red</td>\n",
       "      <td>31500</td>\n",
       "      <td>38701-8047</td>\n",
       "      <td>Passenger</td>\n",
       "      <td>7298798</td>\n",
       "      <td>Greenville</td>\n",
       "      <td>1035.0</td>\n",
       "      <td>0.283553</td>\n",
       "      <td>0.512278</td>\n",
       "    </tr>\n",
       "    <tr>\n",
       "      <th>3</th>\n",
       "      <td>C_CND_000004</td>\n",
       "      <td>1/2/2022</td>\n",
       "      <td>Giselle</td>\n",
       "      <td>Male</td>\n",
       "      <td>13500</td>\n",
       "      <td>Chrysler of Tri-Cities</td>\n",
       "      <td>Toyota</td>\n",
       "      <td>Celica</td>\n",
       "      <td>Overhead Camshaft</td>\n",
       "      <td>Manual</td>\n",
       "      <td>Pale White</td>\n",
       "      <td>14000</td>\n",
       "      <td>99301-3882</td>\n",
       "      <td>SUV</td>\n",
       "      <td>6257557</td>\n",
       "      <td>Pasco</td>\n",
       "      <td>13.5</td>\n",
       "      <td>-1.135185</td>\n",
       "      <td>-1.232030</td>\n",
       "    </tr>\n",
       "    <tr>\n",
       "      <th>4</th>\n",
       "      <td>C_CND_000005</td>\n",
       "      <td>1/2/2022</td>\n",
       "      <td>Grace</td>\n",
       "      <td>Male</td>\n",
       "      <td>1465000</td>\n",
       "      <td>Chrysler Plymouth</td>\n",
       "      <td>Acura</td>\n",
       "      <td>TL</td>\n",
       "      <td>DoubleÂ Overhead Camshaft</td>\n",
       "      <td>Auto</td>\n",
       "      <td>Red</td>\n",
       "      <td>24500</td>\n",
       "      <td>53546-9427</td>\n",
       "      <td>Hatchback</td>\n",
       "      <td>7081483</td>\n",
       "      <td>Janesville</td>\n",
       "      <td>1465.0</td>\n",
       "      <td>0.880770</td>\n",
       "      <td>1.246544</td>\n",
       "    </tr>\n",
       "  </tbody>\n",
       "</table>\n",
       "</div>"
      ],
      "text/plain": [
       "         Car_id      Date Customer Name Gender  Annual Income  \\\n",
       "0  C_CND_000001  1/2/2022     Geraldine   Male          13500   \n",
       "1  C_CND_000002  1/2/2022           Gia   Male        1480000   \n",
       "2  C_CND_000003  1/2/2022        Gianna   Male        1035000   \n",
       "3  C_CND_000004  1/2/2022       Giselle   Male          13500   \n",
       "4  C_CND_000005  1/2/2022         Grace   Male        1465000   \n",
       "\n",
       "                           Dealer_Name   Company       Model  \\\n",
       "0  Buddy Storbeck's Diesel Service Inc      Ford  Expedition   \n",
       "1                     C & M Motors Inc     Dodge     Durango   \n",
       "2                          Capitol KIA  Cadillac    Eldorado   \n",
       "3               Chrysler of Tri-Cities    Toyota      Celica   \n",
       "4                    Chrysler Plymouth     Acura          TL   \n",
       "\n",
       "                      Engine Transmission       Color  Price ($)  Dealer_No   \\\n",
       "0  DoubleÂ Overhead Camshaft         Auto       Black      26000  06457-3834   \n",
       "1  DoubleÂ Overhead Camshaft         Auto       Black      19000  60504-7114   \n",
       "2          Overhead Camshaft       Manual         Red      31500  38701-8047   \n",
       "3          Overhead Camshaft       Manual  Pale White      14000  99301-3882   \n",
       "4  DoubleÂ Overhead Camshaft         Auto         Red      24500  53546-9427   \n",
       "\n",
       "  Body Style    Phone Dealer_Region  Annual Income in thousands  \\\n",
       "0        SUV  8264678    Middletown                        13.5   \n",
       "1        SUV  6848189        Aurora                      1480.0   \n",
       "2  Passenger  7298798    Greenville                      1035.0   \n",
       "3        SUV  6257557         Pasco                        13.5   \n",
       "4  Hatchback  7081483    Janesville                      1465.0   \n",
       "\n",
       "   Annual Income ($k) z-score  Annual Income ($k) modified z-score  \n",
       "0                   -1.135185                            -1.232030  \n",
       "1                    0.901603                             1.272158  \n",
       "2                    0.283553                             0.512278  \n",
       "3                   -1.135185                            -1.232030  \n",
       "4                    0.880770                             1.246544  "
      ]
     },
     "execution_count": 38,
     "metadata": {},
     "output_type": "execute_result"
    }
   ],
   "source": [
    "def get_MAD(series, median):\n",
    "    diff = abs(series - median)\n",
    "    MAD = diff.median()\n",
    "    return MAD\n",
    "\n",
    "median = df['Annual Income in thousands'].median()\n",
    "MAD = get_MAD(df['Annual Income in thousands'], median)\n",
    "\n",
    "df['Annual Income ($k) modified z-score'] = 0.6745 * (df['Annual Income in thousands'] - median) / MAD\n",
    "\n",
    "df.head()"
   ]
  },
  {
   "cell_type": "code",
   "execution_count": 39,
   "metadata": {},
   "outputs": [
    {
     "data": {
      "text/plain": [
       "(466, 19)"
      ]
     },
     "execution_count": 39,
     "metadata": {},
     "output_type": "execute_result"
    }
   ],
   "source": [
    "outliers_modified_z_score = df[(df['Annual Income ($k) modified z-score'] < -3.5) | (df['Annual Income ($k) modified z-score'] > 3.5)]\n",
    "\n",
    "outliers_modified_z_score.shape"
   ]
  },
  {
   "cell_type": "code",
   "execution_count": 41,
   "metadata": {},
   "outputs": [
    {
     "data": {
      "text/plain": [
       "(23440, 19)"
      ]
     },
     "execution_count": 41,
     "metadata": {},
     "output_type": "execute_result"
    }
   ],
   "source": [
    "df_no_income_outliers = df[(df['Annual Income ($k) modified z-score'] > -3.5) & (df['Annual Income ($k) modified z-score'] < 3.5)]\n",
    "\n",
    "df_no_income_outliers.shape"
   ]
  },
  {
   "cell_type": "code",
   "execution_count": 42,
   "metadata": {},
   "outputs": [
    {
     "data": {
      "image/png": "[encoded data removed]",
      "text/plain": [
       "<Figure size 640x480 with 1 Axes>"
      ]
     },
     "metadata": {},
     "output_type": "display_data"
    }
   ],
   "source": [
    "sb.histplot(df_no_income_outliers['Annual Income in thousands'])\n",
    "\n",
    "plt.show()"
   ]
  },
  {
   "cell_type": "code",
   "execution_count": 51,
   "metadata": {},
   "outputs": [
    {
     "data": {
      "text/html": [
       "<div>\n",
       "<style scoped>\n",
       "    .dataframe tbody tr th:only-of-type {\n",
       "        vertical-align: middle;\n",
       "    }\n",
       "\n",
       "    .dataframe tbody tr th {\n",
       "        vertical-align: top;\n",
       "    }\n",
       "\n",
       "    .dataframe thead th {\n",
       "        text-align: right;\n",
       "    }\n",
       "</style>\n",
       "<table border=\"1\" class=\"dataframe\">\n",
       "  <thead>\n",
       "    <tr style=\"text-align: right;\">\n",
       "      <th></th>\n",
       "      <th>Car_id</th>\n",
       "      <th>Date</th>\n",
       "      <th>Customer Name</th>\n",
       "      <th>Gender</th>\n",
       "      <th>Annual Income</th>\n",
       "      <th>Dealer_Name</th>\n",
       "      <th>Company</th>\n",
       "      <th>Model</th>\n",
       "      <th>Engine</th>\n",
       "      <th>Transmission</th>\n",
       "      <th>Color</th>\n",
       "      <th>Price ($)</th>\n",
       "      <th>Dealer_No</th>\n",
       "      <th>Body Style</th>\n",
       "      <th>Phone</th>\n",
       "      <th>Dealer_Region</th>\n",
       "      <th>Annual Income in thousands</th>\n",
       "      <th>Annual Income ($k) z-score</th>\n",
       "      <th>Annual Income ($k) modified z-score</th>\n",
       "    </tr>\n",
       "  </thead>\n",
       "  <tbody>\n",
       "    <tr>\n",
       "      <th>0</th>\n",
       "      <td>C_CND_000001</td>\n",
       "      <td>1/2/2022</td>\n",
       "      <td>Geraldine</td>\n",
       "      <td>Male</td>\n",
       "      <td>13500</td>\n",
       "      <td>Buddy Storbeck's Diesel Service Inc</td>\n",
       "      <td>Ford</td>\n",
       "      <td>Expedition</td>\n",
       "      <td>DoubleÂ Overhead Camshaft</td>\n",
       "      <td>Auto</td>\n",
       "      <td>Black</td>\n",
       "      <td>26000</td>\n",
       "      <td>06457-3834</td>\n",
       "      <td>SUV</td>\n",
       "      <td>8264678</td>\n",
       "      <td>Middletown</td>\n",
       "      <td>13.5</td>\n",
       "      <td>-1.135185</td>\n",
       "      <td>-1.232030</td>\n",
       "    </tr>\n",
       "    <tr>\n",
       "      <th>1</th>\n",
       "      <td>C_CND_000002</td>\n",
       "      <td>1/2/2022</td>\n",
       "      <td>Gia</td>\n",
       "      <td>Male</td>\n",
       "      <td>1480000</td>\n",
       "      <td>C &amp; M Motors Inc</td>\n",
       "      <td>Dodge</td>\n",
       "      <td>Durango</td>\n",
       "      <td>DoubleÂ Overhead Camshaft</td>\n",
       "      <td>Auto</td>\n",
       "      <td>Black</td>\n",
       "      <td>19000</td>\n",
       "      <td>60504-7114</td>\n",
       "      <td>SUV</td>\n",
       "      <td>6848189</td>\n",
       "      <td>Aurora</td>\n",
       "      <td>1480.0</td>\n",
       "      <td>0.901603</td>\n",
       "      <td>1.272158</td>\n",
       "    </tr>\n",
       "    <tr>\n",
       "      <th>2</th>\n",
       "      <td>C_CND_000003</td>\n",
       "      <td>1/2/2022</td>\n",
       "      <td>Gianna</td>\n",
       "      <td>Male</td>\n",
       "      <td>1035000</td>\n",
       "      <td>Capitol KIA</td>\n",
       "      <td>Cadillac</td>\n",
       "      <td>Eldorado</td>\n",
       "      <td>Overhead Camshaft</td>\n",
       "      <td>Manual</td>\n",
       "      <td>Red</td>\n",
       "      <td>31500</td>\n",
       "      <td>38701-8047</td>\n",
       "      <td>Passenger</td>\n",
       "      <td>7298798</td>\n",
       "      <td>Greenville</td>\n",
       "      <td>1035.0</td>\n",
       "      <td>0.283553</td>\n",
       "      <td>0.512278</td>\n",
       "    </tr>\n",
       "    <tr>\n",
       "      <th>3</th>\n",
       "      <td>C_CND_000004</td>\n",
       "      <td>1/2/2022</td>\n",
       "      <td>Giselle</td>\n",
       "      <td>Male</td>\n",
       "      <td>13500</td>\n",
       "      <td>Chrysler of Tri-Cities</td>\n",
       "      <td>Toyota</td>\n",
       "      <td>Celica</td>\n",
       "      <td>Overhead Camshaft</td>\n",
       "      <td>Manual</td>\n",
       "      <td>Pale White</td>\n",
       "      <td>14000</td>\n",
       "      <td>99301-3882</td>\n",
       "      <td>SUV</td>\n",
       "      <td>6257557</td>\n",
       "      <td>Pasco</td>\n",
       "      <td>13.5</td>\n",
       "      <td>-1.135185</td>\n",
       "      <td>-1.232030</td>\n",
       "    </tr>\n",
       "    <tr>\n",
       "      <th>4</th>\n",
       "      <td>C_CND_000005</td>\n",
       "      <td>1/2/2022</td>\n",
       "      <td>Grace</td>\n",
       "      <td>Male</td>\n",
       "      <td>1465000</td>\n",
       "      <td>Chrysler Plymouth</td>\n",
       "      <td>Acura</td>\n",
       "      <td>TL</td>\n",
       "      <td>DoubleÂ Overhead Camshaft</td>\n",
       "      <td>Auto</td>\n",
       "      <td>Red</td>\n",
       "      <td>24500</td>\n",
       "      <td>53546-9427</td>\n",
       "      <td>Hatchback</td>\n",
       "      <td>7081483</td>\n",
       "      <td>Janesville</td>\n",
       "      <td>1465.0</td>\n",
       "      <td>0.880770</td>\n",
       "      <td>1.246544</td>\n",
       "    </tr>\n",
       "  </tbody>\n",
       "</table>\n",
       "</div>"
      ],
      "text/plain": [
       "         Car_id      Date Customer Name Gender  Annual Income  \\\n",
       "0  C_CND_000001  1/2/2022     Geraldine   Male          13500   \n",
       "1  C_CND_000002  1/2/2022           Gia   Male        1480000   \n",
       "2  C_CND_000003  1/2/2022        Gianna   Male        1035000   \n",
       "3  C_CND_000004  1/2/2022       Giselle   Male          13500   \n",
       "4  C_CND_000005  1/2/2022         Grace   Male        1465000   \n",
       "\n",
       "                           Dealer_Name   Company       Model  \\\n",
       "0  Buddy Storbeck's Diesel Service Inc      Ford  Expedition   \n",
       "1                     C & M Motors Inc     Dodge     Durango   \n",
       "2                          Capitol KIA  Cadillac    Eldorado   \n",
       "3               Chrysler of Tri-Cities    Toyota      Celica   \n",
       "4                    Chrysler Plymouth     Acura          TL   \n",
       "\n",
       "                      Engine Transmission       Color  Price ($)  Dealer_No   \\\n",
       "0  DoubleÂ Overhead Camshaft         Auto       Black      26000  06457-3834   \n",
       "1  DoubleÂ Overhead Camshaft         Auto       Black      19000  60504-7114   \n",
       "2          Overhead Camshaft       Manual         Red      31500  38701-8047   \n",
       "3          Overhead Camshaft       Manual  Pale White      14000  99301-3882   \n",
       "4  DoubleÂ Overhead Camshaft         Auto         Red      24500  53546-9427   \n",
       "\n",
       "  Body Style    Phone Dealer_Region  Annual Income in thousands  \\\n",
       "0        SUV  8264678    Middletown                        13.5   \n",
       "1        SUV  6848189        Aurora                      1480.0   \n",
       "2  Passenger  7298798    Greenville                      1035.0   \n",
       "3        SUV  6257557         Pasco                        13.5   \n",
       "4  Hatchback  7081483    Janesville                      1465.0   \n",
       "\n",
       "   Annual Income ($k) z-score  Annual Income ($k) modified z-score  \n",
       "0                   -1.135185                            -1.232030  \n",
       "1                    0.901603                             1.272158  \n",
       "2                    0.283553                             0.512278  \n",
       "3                   -1.135185                            -1.232030  \n",
       "4                    0.880770                             1.246544  "
      ]
     },
     "execution_count": 51,
     "metadata": {},
     "output_type": "execute_result"
    }
   ],
   "source": [
    "df.head()"
   ]
  },
  {
   "cell_type": "code",
   "execution_count": 65,
   "metadata": {},
   "outputs": [
    {
     "data": {
      "text/plain": [
       "<Axes: xlabel='Annual Income in thousands', ylabel='Price ($)'>"
      ]
     },
     "execution_count": 65,
     "metadata": {},
     "output_type": "execute_result"
    },
    {
     "data": {
      "image/png": "[encoded data removed]",
      "text/plain": [
       "<Figure size 640x480 with 1 Axes>"
      ]
     },
     "metadata": {},
     "output_type": "display_data"
    }
   ],
   "source": [
    "df.plot(kind='scatter', x='Annual Income in thousands', y='Price ($)')"
   ]
  },
  {
   "cell_type": "code",
   "execution_count": 67,
   "metadata": {},
   "outputs": [
    {
     "data": {
      "image/png": "[encoded data removed]",
      "text/plain": [
       "<Figure size 640x480 with 1 Axes>"
      ]
     },
     "metadata": {},
     "output_type": "display_data"
    }
   ],
   "source": [
    "sb.histplot(df['Price ($)'], kde=True)\n",
    "\n",
    "plt.show()"
   ]
  },
  {
   "cell_type": "code",
   "execution_count": 68,
   "metadata": {},
   "outputs": [
    {
     "data": {
      "text/plain": [
       "count    23906.000000\n",
       "mean     28090.247846\n",
       "std      14788.687608\n",
       "min       1200.000000\n",
       "25%      18001.000000\n",
       "50%      23000.000000\n",
       "75%      34000.000000\n",
       "max      85800.000000\n",
       "Name: Price ($), dtype: float64"
      ]
     },
     "execution_count": 68,
     "metadata": {},
     "output_type": "execute_result"
    }
   ],
   "source": [
    "df['Price ($)'].describe()"
   ]
  },
  {
   "cell_type": "code",
   "execution_count": 69,
   "metadata": {},
   "outputs": [
    {
     "data": {
      "text/plain": [
       "(28090.247845729107, 23000.0)"
      ]
     },
     "execution_count": 69,
     "metadata": {},
     "output_type": "execute_result"
    }
   ],
   "source": [
    "df['Price ($)'].mean(), df['Price ($)'].median()"
   ]
  },
  {
   "cell_type": "code",
   "execution_count": 70,
   "metadata": {},
   "outputs": [
    {
     "data": {
      "text/plain": [
       "(351, 19)"
      ]
     },
     "execution_count": 70,
     "metadata": {},
     "output_type": "execute_result"
    }
   ],
   "source": [
    "mean = df['Price ($)'].mean()\n",
    "std = df['Price ($)'].std()\n",
    "\n",
    "upper_limit = mean + 3*std\n",
    "lower_limit = mean - 3*std\n",
    "\n",
    "outliers_z_score = df[(df['Price ($)'] < lower_limit) | (df['Price ($)'] > upper_limit)]\n",
    "\n",
    "outliers_z_score.shape"
   ]
  },
  {
   "cell_type": "code",
   "execution_count": null,
   "metadata": {},
   "outputs": [],
   "source": [
    "median = df['Price ($)'].median()\n",
    "\n",
    "MAD = (abs(df['Price ($)'] - median)).median()\n",
    "\n"
   ]
  },
  {
   "cell_type": "code",
   "execution_count": 75,
   "metadata": {},
   "outputs": [
    {
     "data": {
      "text/plain": [
       "406.76132"
      ]
     },
     "execution_count": 75,
     "metadata": {},
     "output_type": "execute_result"
    }
   ],
   "source": []
  }
 ],
 "metadata": {
  "kernelspec": {
   "display_name": "Python 3",
   "language": "python",
   "name": "python3"
  },
  "language_info": {
   "codemirror_mode": {
    "name": "ipython",
    "version": 3
   },
   "file_extension": ".py",
   "mimetype": "text/x-python",
   "name": "python",
   "nbconvert_exporter": "python",
   "pygments_lexer": "ipython3",
   "version": "3.12.0"
  }
 },
 "nbformat": 4,
 "nbformat_minor": 2
}
