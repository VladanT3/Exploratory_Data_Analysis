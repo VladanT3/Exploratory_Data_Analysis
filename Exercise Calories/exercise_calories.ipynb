{
 "cells": [
  {
   "cell_type": "code",
   "execution_count": 101,
   "metadata": {},
   "outputs": [],
   "source": [
    "import pandas as pd\n",
    "import seaborn as sn\n",
    "from matplotlib import pyplot as plt\n",
    "import numpy as np"
   ]
  },
  {
   "cell_type": "code",
   "execution_count": 102,
   "metadata": {},
   "outputs": [
    {
     "data": {
      "text/plain": [
       "(248, 6)"
      ]
     },
     "execution_count": 102,
     "metadata": {},
     "output_type": "execute_result"
    }
   ],
   "source": [
    "df = pd.read_csv('exercise_calories.csv')\n",
    "df.shape"
   ]
  },
  {
   "cell_type": "code",
   "execution_count": 103,
   "metadata": {},
   "outputs": [
    {
     "data": {
      "text/html": [
       "<div>\n",
       "<style scoped>\n",
       "    .dataframe tbody tr th:only-of-type {\n",
       "        vertical-align: middle;\n",
       "    }\n",
       "\n",
       "    .dataframe tbody tr th {\n",
       "        vertical-align: top;\n",
       "    }\n",
       "\n",
       "    .dataframe thead th {\n",
       "        text-align: right;\n",
       "    }\n",
       "</style>\n",
       "<table border=\"1\" class=\"dataframe\">\n",
       "  <thead>\n",
       "    <tr style=\"text-align: right;\">\n",
       "      <th></th>\n",
       "      <th>Activity, Exercise or Sport (1 hour)</th>\n",
       "      <th>130 lb</th>\n",
       "      <th>155 lb</th>\n",
       "      <th>180 lb</th>\n",
       "      <th>205 lb</th>\n",
       "      <th>Calories per kg</th>\n",
       "    </tr>\n",
       "  </thead>\n",
       "  <tbody>\n",
       "    <tr>\n",
       "      <th>0</th>\n",
       "      <td>Cycling, mountain bike, bmx</td>\n",
       "      <td>502</td>\n",
       "      <td>598</td>\n",
       "      <td>695</td>\n",
       "      <td>791</td>\n",
       "      <td>1.750730</td>\n",
       "    </tr>\n",
       "    <tr>\n",
       "      <th>1</th>\n",
       "      <td>Cycling, &lt;10 mph, leisure bicycling</td>\n",
       "      <td>236</td>\n",
       "      <td>281</td>\n",
       "      <td>327</td>\n",
       "      <td>372</td>\n",
       "      <td>0.823236</td>\n",
       "    </tr>\n",
       "    <tr>\n",
       "      <th>2</th>\n",
       "      <td>Cycling, &gt;20 mph, racing</td>\n",
       "      <td>944</td>\n",
       "      <td>1126</td>\n",
       "      <td>1308</td>\n",
       "      <td>1489</td>\n",
       "      <td>3.294974</td>\n",
       "    </tr>\n",
       "    <tr>\n",
       "      <th>3</th>\n",
       "      <td>Cycling, 10-11.9 mph, light</td>\n",
       "      <td>354</td>\n",
       "      <td>422</td>\n",
       "      <td>490</td>\n",
       "      <td>558</td>\n",
       "      <td>1.234853</td>\n",
       "    </tr>\n",
       "    <tr>\n",
       "      <th>4</th>\n",
       "      <td>Cycling, 12-13.9 mph, moderate</td>\n",
       "      <td>472</td>\n",
       "      <td>563</td>\n",
       "      <td>654</td>\n",
       "      <td>745</td>\n",
       "      <td>1.647825</td>\n",
       "    </tr>\n",
       "  </tbody>\n",
       "</table>\n",
       "</div>"
      ],
      "text/plain": [
       "  Activity, Exercise or Sport (1 hour)  130 lb  155 lb  180 lb  205 lb  \\\n",
       "0          Cycling, mountain bike, bmx     502     598     695     791   \n",
       "1  Cycling, <10 mph, leisure bicycling     236     281     327     372   \n",
       "2             Cycling, >20 mph, racing     944    1126    1308    1489   \n",
       "3          Cycling, 10-11.9 mph, light     354     422     490     558   \n",
       "4       Cycling, 12-13.9 mph, moderate     472     563     654     745   \n",
       "\n",
       "   Calories per kg  \n",
       "0         1.750730  \n",
       "1         0.823236  \n",
       "2         3.294974  \n",
       "3         1.234853  \n",
       "4         1.647825  "
      ]
     },
     "execution_count": 103,
     "metadata": {},
     "output_type": "execute_result"
    }
   ],
   "source": [
    "df.head()"
   ]
  },
  {
   "cell_type": "markdown",
   "metadata": {},
   "source": [
    "First let's change pounds (lbs) to kilograms (kg) in column names."
   ]
  },
  {
   "cell_type": "code",
   "execution_count": 104,
   "metadata": {},
   "outputs": [
    {
     "name": "stdout",
     "output_type": "stream",
     "text": [
      "130 lbs = 58.95691609977324 kg\n",
      "155 lbs = 70.29478458049887 kg\n",
      "180 lbs = 81.63265306122449 kg\n",
      "205 lbs = 92.9705215419501 kg\n"
     ]
    }
   ],
   "source": [
    "print(f\"130 lbs = {130/2.205} kg\\n155 lbs = {155/2.205} kg\\n180 lbs = {180/2.205} kg\\n205 lbs = {205/2.205} kg\")"
   ]
  },
  {
   "cell_type": "code",
   "execution_count": 105,
   "metadata": {},
   "outputs": [
    {
     "data": {
      "text/html": [
       "<div>\n",
       "<style scoped>\n",
       "    .dataframe tbody tr th:only-of-type {\n",
       "        vertical-align: middle;\n",
       "    }\n",
       "\n",
       "    .dataframe tbody tr th {\n",
       "        vertical-align: top;\n",
       "    }\n",
       "\n",
       "    .dataframe thead th {\n",
       "        text-align: right;\n",
       "    }\n",
       "</style>\n",
       "<table border=\"1\" class=\"dataframe\">\n",
       "  <thead>\n",
       "    <tr style=\"text-align: right;\">\n",
       "      <th></th>\n",
       "      <th>Activity, Exercise or Sport (1 hour)</th>\n",
       "      <th>59 kg</th>\n",
       "      <th>70 kg</th>\n",
       "      <th>82 kg</th>\n",
       "      <th>93 kg</th>\n",
       "      <th>Calories per kg</th>\n",
       "    </tr>\n",
       "  </thead>\n",
       "  <tbody>\n",
       "    <tr>\n",
       "      <th>0</th>\n",
       "      <td>Cycling, mountain bike, bmx</td>\n",
       "      <td>502</td>\n",
       "      <td>598</td>\n",
       "      <td>695</td>\n",
       "      <td>791</td>\n",
       "      <td>1.750730</td>\n",
       "    </tr>\n",
       "    <tr>\n",
       "      <th>1</th>\n",
       "      <td>Cycling, &lt;10 mph, leisure bicycling</td>\n",
       "      <td>236</td>\n",
       "      <td>281</td>\n",
       "      <td>327</td>\n",
       "      <td>372</td>\n",
       "      <td>0.823236</td>\n",
       "    </tr>\n",
       "    <tr>\n",
       "      <th>2</th>\n",
       "      <td>Cycling, &gt;20 mph, racing</td>\n",
       "      <td>944</td>\n",
       "      <td>1126</td>\n",
       "      <td>1308</td>\n",
       "      <td>1489</td>\n",
       "      <td>3.294974</td>\n",
       "    </tr>\n",
       "    <tr>\n",
       "      <th>3</th>\n",
       "      <td>Cycling, 10-11.9 mph, light</td>\n",
       "      <td>354</td>\n",
       "      <td>422</td>\n",
       "      <td>490</td>\n",
       "      <td>558</td>\n",
       "      <td>1.234853</td>\n",
       "    </tr>\n",
       "    <tr>\n",
       "      <th>4</th>\n",
       "      <td>Cycling, 12-13.9 mph, moderate</td>\n",
       "      <td>472</td>\n",
       "      <td>563</td>\n",
       "      <td>654</td>\n",
       "      <td>745</td>\n",
       "      <td>1.647825</td>\n",
       "    </tr>\n",
       "  </tbody>\n",
       "</table>\n",
       "</div>"
      ],
      "text/plain": [
       "  Activity, Exercise or Sport (1 hour)  59 kg  70 kg  82 kg  93 kg  \\\n",
       "0          Cycling, mountain bike, bmx    502    598    695    791   \n",
       "1  Cycling, <10 mph, leisure bicycling    236    281    327    372   \n",
       "2             Cycling, >20 mph, racing    944   1126   1308   1489   \n",
       "3          Cycling, 10-11.9 mph, light    354    422    490    558   \n",
       "4       Cycling, 12-13.9 mph, moderate    472    563    654    745   \n",
       "\n",
       "   Calories per kg  \n",
       "0         1.750730  \n",
       "1         0.823236  \n",
       "2         3.294974  \n",
       "3         1.234853  \n",
       "4         1.647825  "
      ]
     },
     "execution_count": 105,
     "metadata": {},
     "output_type": "execute_result"
    }
   ],
   "source": [
    "df.rename(columns={\n",
    "    '130 lb': '59 kg',\n",
    "    '155 lb': '70 kg',\n",
    "    '180 lb': '82 kg',\n",
    "    '205 lb': '93 kg'\n",
    "}, inplace=True)\n",
    "\n",
    "df.head()"
   ]
  },
  {
   "cell_type": "markdown",
   "metadata": {},
   "source": [
    "It seems that the data in the column 'Calories per kg' is very wrong, I believe it was calculated wrongly so I will be replacing it with proper values now. I believe the formula that was used to calculate the values in this column is as follows:"
   ]
  },
  {
   "cell_type": "code",
   "execution_count": 106,
   "metadata": {},
   "outputs": [
    {
     "data": {
      "text/plain": [
       "1.7512646084074655"
      ]
     },
     "execution_count": 106,
     "metadata": {},
     "output_type": "execute_result"
    }
   ],
   "source": [
    "502/(130*2.205)"
   ]
  },
  {
   "cell_type": "markdown",
   "metadata": {},
   "source": [
    "As I thought the conversion was done incorrectly, when the author of the dataset tried converting pounds (lbs) to kilograms (kg) they multiplied pounds by 2.205 instead of dividing them to get kilograms."
   ]
  },
  {
   "cell_type": "code",
   "execution_count": 107,
   "metadata": {},
   "outputs": [
    {
     "data": {
      "text/html": [
       "<div>\n",
       "<style scoped>\n",
       "    .dataframe tbody tr th:only-of-type {\n",
       "        vertical-align: middle;\n",
       "    }\n",
       "\n",
       "    .dataframe tbody tr th {\n",
       "        vertical-align: top;\n",
       "    }\n",
       "\n",
       "    .dataframe thead th {\n",
       "        text-align: right;\n",
       "    }\n",
       "</style>\n",
       "<table border=\"1\" class=\"dataframe\">\n",
       "  <thead>\n",
       "    <tr style=\"text-align: right;\">\n",
       "      <th></th>\n",
       "      <th>Activity, Exercise or Sport (1 hour)</th>\n",
       "      <th>59 kg</th>\n",
       "      <th>70 kg</th>\n",
       "      <th>82 kg</th>\n",
       "      <th>93 kg</th>\n",
       "      <th>Calories per kg</th>\n",
       "    </tr>\n",
       "  </thead>\n",
       "  <tbody>\n",
       "    <tr>\n",
       "      <th>0</th>\n",
       "      <td>Cycling, mountain bike, bmx</td>\n",
       "      <td>502</td>\n",
       "      <td>598</td>\n",
       "      <td>695</td>\n",
       "      <td>791</td>\n",
       "      <td>8.514692</td>\n",
       "    </tr>\n",
       "    <tr>\n",
       "      <th>1</th>\n",
       "      <td>Cycling, &lt;10 mph, leisure bicycling</td>\n",
       "      <td>236</td>\n",
       "      <td>281</td>\n",
       "      <td>327</td>\n",
       "      <td>372</td>\n",
       "      <td>4.002923</td>\n",
       "    </tr>\n",
       "    <tr>\n",
       "      <th>2</th>\n",
       "      <td>Cycling, &gt;20 mph, racing</td>\n",
       "      <td>944</td>\n",
       "      <td>1126</td>\n",
       "      <td>1308</td>\n",
       "      <td>1489</td>\n",
       "      <td>16.011692</td>\n",
       "    </tr>\n",
       "    <tr>\n",
       "      <th>3</th>\n",
       "      <td>Cycling, 10-11.9 mph, light</td>\n",
       "      <td>354</td>\n",
       "      <td>422</td>\n",
       "      <td>490</td>\n",
       "      <td>558</td>\n",
       "      <td>6.004385</td>\n",
       "    </tr>\n",
       "    <tr>\n",
       "      <th>4</th>\n",
       "      <td>Cycling, 12-13.9 mph, moderate</td>\n",
       "      <td>472</td>\n",
       "      <td>563</td>\n",
       "      <td>654</td>\n",
       "      <td>745</td>\n",
       "      <td>8.005846</td>\n",
       "    </tr>\n",
       "  </tbody>\n",
       "</table>\n",
       "</div>"
      ],
      "text/plain": [
       "  Activity, Exercise or Sport (1 hour)  59 kg  70 kg  82 kg  93 kg  \\\n",
       "0          Cycling, mountain bike, bmx    502    598    695    791   \n",
       "1  Cycling, <10 mph, leisure bicycling    236    281    327    372   \n",
       "2             Cycling, >20 mph, racing    944   1126   1308   1489   \n",
       "3          Cycling, 10-11.9 mph, light    354    422    490    558   \n",
       "4       Cycling, 12-13.9 mph, moderate    472    563    654    745   \n",
       "\n",
       "   Calories per kg  \n",
       "0         8.514692  \n",
       "1         4.002923  \n",
       "2        16.011692  \n",
       "3         6.004385  \n",
       "4         8.005846  "
      ]
     },
     "execution_count": 107,
     "metadata": {},
     "output_type": "execute_result"
    }
   ],
   "source": [
    "df['Calories per kg'] = df['59 kg'] / 58.95691609977324\n",
    "\n",
    "df.head()"
   ]
  },
  {
   "cell_type": "code",
   "execution_count": 108,
   "metadata": {},
   "outputs": [
    {
     "data": {
      "text/plain": [
       "8.508474576271187"
      ]
     },
     "execution_count": 108,
     "metadata": {},
     "output_type": "execute_result"
    }
   ],
   "source": [
    "502/59"
   ]
  },
  {
   "cell_type": "markdown",
   "metadata": {},
   "source": [
    "The values have now been replaced with proper values and we can continue the analysis."
   ]
  },
  {
   "cell_type": "markdown",
   "metadata": {},
   "source": [
    "I wish to find what are the best exercises, according to this dataset, to do to lose weight. To do that let's sort it by 'Calories per kg'."
   ]
  },
  {
   "cell_type": "code",
   "execution_count": 109,
   "metadata": {},
   "outputs": [
    {
     "data": {
      "text/html": [
       "<div>\n",
       "<style scoped>\n",
       "    .dataframe tbody tr th:only-of-type {\n",
       "        vertical-align: middle;\n",
       "    }\n",
       "\n",
       "    .dataframe tbody tr th {\n",
       "        vertical-align: top;\n",
       "    }\n",
       "\n",
       "    .dataframe thead th {\n",
       "        text-align: right;\n",
       "    }\n",
       "</style>\n",
       "<table border=\"1\" class=\"dataframe\">\n",
       "  <thead>\n",
       "    <tr style=\"text-align: right;\">\n",
       "      <th></th>\n",
       "      <th>Activity, Exercise or Sport (1 hour)</th>\n",
       "      <th>59 kg</th>\n",
       "      <th>70 kg</th>\n",
       "      <th>82 kg</th>\n",
       "      <th>93 kg</th>\n",
       "      <th>Calories per kg</th>\n",
       "    </tr>\n",
       "  </thead>\n",
       "  <tbody>\n",
       "    <tr>\n",
       "      <th>47</th>\n",
       "      <td>Running, 10.9 mph (5.5 min mile)</td>\n",
       "      <td>1062</td>\n",
       "      <td>1267</td>\n",
       "      <td>1471</td>\n",
       "      <td>1675</td>\n",
       "      <td>18.013154</td>\n",
       "    </tr>\n",
       "    <tr>\n",
       "      <th>217</th>\n",
       "      <td>Cross country skiing, uphill</td>\n",
       "      <td>974</td>\n",
       "      <td>1161</td>\n",
       "      <td>1348</td>\n",
       "      <td>1536</td>\n",
       "      <td>16.520538</td>\n",
       "    </tr>\n",
       "    <tr>\n",
       "      <th>46</th>\n",
       "      <td>Running, 10 mph (6 min mile)</td>\n",
       "      <td>944</td>\n",
       "      <td>1126</td>\n",
       "      <td>1308</td>\n",
       "      <td>1489</td>\n",
       "      <td>16.011692</td>\n",
       "    </tr>\n",
       "    <tr>\n",
       "      <th>2</th>\n",
       "      <td>Cycling, &gt;20 mph, racing</td>\n",
       "      <td>944</td>\n",
       "      <td>1126</td>\n",
       "      <td>1308</td>\n",
       "      <td>1489</td>\n",
       "      <td>16.011692</td>\n",
       "    </tr>\n",
       "    <tr>\n",
       "      <th>188</th>\n",
       "      <td>Skin diving, fast</td>\n",
       "      <td>944</td>\n",
       "      <td>1126</td>\n",
       "      <td>1308</td>\n",
       "      <td>1489</td>\n",
       "      <td>16.011692</td>\n",
       "    </tr>\n",
       "    <tr>\n",
       "      <th>45</th>\n",
       "      <td>Running, 9 mph (6.5 min mile)</td>\n",
       "      <td>885</td>\n",
       "      <td>1056</td>\n",
       "      <td>1226</td>\n",
       "      <td>1396</td>\n",
       "      <td>15.010962</td>\n",
       "    </tr>\n",
       "    <tr>\n",
       "      <th>51</th>\n",
       "      <td>Running, stairs, up</td>\n",
       "      <td>885</td>\n",
       "      <td>1056</td>\n",
       "      <td>1226</td>\n",
       "      <td>1396</td>\n",
       "      <td>15.010962</td>\n",
       "    </tr>\n",
       "    <tr>\n",
       "      <th>212</th>\n",
       "      <td>Speed skating, ice, competitive</td>\n",
       "      <td>885</td>\n",
       "      <td>1056</td>\n",
       "      <td>1226</td>\n",
       "      <td>1396</td>\n",
       "      <td>15.010962</td>\n",
       "    </tr>\n",
       "    <tr>\n",
       "      <th>216</th>\n",
       "      <td>Cross country skiing, racing</td>\n",
       "      <td>826</td>\n",
       "      <td>985</td>\n",
       "      <td>1144</td>\n",
       "      <td>1303</td>\n",
       "      <td>14.010231</td>\n",
       "    </tr>\n",
       "    <tr>\n",
       "      <th>44</th>\n",
       "      <td>Running, 8.6 mph (7 min mile)</td>\n",
       "      <td>826</td>\n",
       "      <td>985</td>\n",
       "      <td>1144</td>\n",
       "      <td>1303</td>\n",
       "      <td>14.010231</td>\n",
       "    </tr>\n",
       "  </tbody>\n",
       "</table>\n",
       "</div>"
      ],
      "text/plain": [
       "    Activity, Exercise or Sport (1 hour)  59 kg  70 kg  82 kg  93 kg  \\\n",
       "47      Running, 10.9 mph (5.5 min mile)   1062   1267   1471   1675   \n",
       "217         Cross country skiing, uphill    974   1161   1348   1536   \n",
       "46          Running, 10 mph (6 min mile)    944   1126   1308   1489   \n",
       "2               Cycling, >20 mph, racing    944   1126   1308   1489   \n",
       "188                    Skin diving, fast    944   1126   1308   1489   \n",
       "45         Running, 9 mph (6.5 min mile)    885   1056   1226   1396   \n",
       "51                   Running, stairs, up    885   1056   1226   1396   \n",
       "212      Speed skating, ice, competitive    885   1056   1226   1396   \n",
       "216         Cross country skiing, racing    826    985   1144   1303   \n",
       "44         Running, 8.6 mph (7 min mile)    826    985   1144   1303   \n",
       "\n",
       "     Calories per kg  \n",
       "47         18.013154  \n",
       "217        16.520538  \n",
       "46         16.011692  \n",
       "2          16.011692  \n",
       "188        16.011692  \n",
       "45         15.010962  \n",
       "51         15.010962  \n",
       "212        15.010962  \n",
       "216        14.010231  \n",
       "44         14.010231  "
      ]
     },
     "execution_count": 109,
     "metadata": {},
     "output_type": "execute_result"
    }
   ],
   "source": [
    "sorted_by_best_exercises = df.sort_values('Calories per kg', ascending=False)\n",
    "sorted_by_best_exercises.head(10)"
   ]
  },
  {
   "cell_type": "markdown",
   "metadata": {},
   "source": [
    "Seems that running for 1 hour at the speed of 10.9 mph is the best calories burner, let me just convert that to km/h so I can understand it."
   ]
  },
  {
   "cell_type": "code",
   "execution_count": 110,
   "metadata": {},
   "outputs": [
    {
     "data": {
      "text/plain": [
       "17.5381"
      ]
     },
     "execution_count": 110,
     "metadata": {},
     "output_type": "execute_result"
    }
   ],
   "source": [
    "10.9 * 1.609"
   ]
  },
  {
   "cell_type": "markdown",
   "metadata": {},
   "source": [
    "17.5 km/h is a very high speed and I doubt its something many people can keep up for a full hour. Let's see if we can find something that will maximise weight loss while being something an average person could do, or at least something they can progress towards easier than maintaing a full sprint for an hour."
   ]
  },
  {
   "cell_type": "markdown",
   "metadata": {},
   "source": [
    "There are no fancy formulas to find such a thing as I will have to manually read the name of the exercise and provide my own judgement and opinion so I will mostly now be just scrolling through the sorted dataset until I run into something good."
   ]
  },
  {
   "cell_type": "markdown",
   "metadata": {},
   "source": [
    "Biking at the speed of over 30 km/h for a full hour could be possible but just in case let's explore some more options."
   ]
  },
  {
   "cell_type": "code",
   "execution_count": 111,
   "metadata": {},
   "outputs": [
    {
     "data": {
      "text/plain": [
       "32.18"
      ]
     },
     "execution_count": 111,
     "metadata": {},
     "output_type": "execute_result"
    }
   ],
   "source": [
    "20 * 1.609"
   ]
  },
  {
   "cell_type": "code",
   "execution_count": 114,
   "metadata": {},
   "outputs": [
    {
     "data": {
      "text/html": [
       "<div>\n",
       "<style scoped>\n",
       "    .dataframe tbody tr th:only-of-type {\n",
       "        vertical-align: middle;\n",
       "    }\n",
       "\n",
       "    .dataframe tbody tr th {\n",
       "        vertical-align: top;\n",
       "    }\n",
       "\n",
       "    .dataframe thead th {\n",
       "        text-align: right;\n",
       "    }\n",
       "</style>\n",
       "<table border=\"1\" class=\"dataframe\">\n",
       "  <thead>\n",
       "    <tr style=\"text-align: right;\">\n",
       "      <th></th>\n",
       "      <th>Activity, Exercise or Sport (1 hour)</th>\n",
       "      <th>59 kg</th>\n",
       "      <th>70 kg</th>\n",
       "      <th>82 kg</th>\n",
       "      <th>93 kg</th>\n",
       "      <th>Calories per kg</th>\n",
       "    </tr>\n",
       "  </thead>\n",
       "  <tbody>\n",
       "    <tr>\n",
       "      <th>0</th>\n",
       "      <td>Running, 10.9 mph (5.5 min mile)</td>\n",
       "      <td>1062</td>\n",
       "      <td>1267</td>\n",
       "      <td>1471</td>\n",
       "      <td>1675</td>\n",
       "      <td>18.013154</td>\n",
       "    </tr>\n",
       "    <tr>\n",
       "      <th>1</th>\n",
       "      <td>Cross country skiing, uphill</td>\n",
       "      <td>974</td>\n",
       "      <td>1161</td>\n",
       "      <td>1348</td>\n",
       "      <td>1536</td>\n",
       "      <td>16.520538</td>\n",
       "    </tr>\n",
       "    <tr>\n",
       "      <th>2</th>\n",
       "      <td>Running, 10 mph (6 min mile)</td>\n",
       "      <td>944</td>\n",
       "      <td>1126</td>\n",
       "      <td>1308</td>\n",
       "      <td>1489</td>\n",
       "      <td>16.011692</td>\n",
       "    </tr>\n",
       "    <tr>\n",
       "      <th>3</th>\n",
       "      <td>Cycling, &gt;20 mph, racing</td>\n",
       "      <td>944</td>\n",
       "      <td>1126</td>\n",
       "      <td>1308</td>\n",
       "      <td>1489</td>\n",
       "      <td>16.011692</td>\n",
       "    </tr>\n",
       "    <tr>\n",
       "      <th>4</th>\n",
       "      <td>Skin diving, fast</td>\n",
       "      <td>944</td>\n",
       "      <td>1126</td>\n",
       "      <td>1308</td>\n",
       "      <td>1489</td>\n",
       "      <td>16.011692</td>\n",
       "    </tr>\n",
       "  </tbody>\n",
       "</table>\n",
       "</div>"
      ],
      "text/plain": [
       "  Activity, Exercise or Sport (1 hour)  59 kg  70 kg  82 kg  93 kg  \\\n",
       "0     Running, 10.9 mph (5.5 min mile)   1062   1267   1471   1675   \n",
       "1         Cross country skiing, uphill    974   1161   1348   1536   \n",
       "2         Running, 10 mph (6 min mile)    944   1126   1308   1489   \n",
       "3             Cycling, >20 mph, racing    944   1126   1308   1489   \n",
       "4                    Skin diving, fast    944   1126   1308   1489   \n",
       "\n",
       "   Calories per kg  \n",
       "0        18.013154  \n",
       "1        16.520538  \n",
       "2        16.011692  \n",
       "3        16.011692  \n",
       "4        16.011692  "
      ]
     },
     "execution_count": 114,
     "metadata": {},
     "output_type": "execute_result"
    }
   ],
   "source": [
    "sorted_by_best_exercises.index = np.arange(sorted_by_best_exercises.__len__())\n",
    "\n",
    "sorted_by_best_exercises.head()"
   ]
  },
  {
   "cell_type": "code",
   "execution_count": 116,
   "metadata": {},
   "outputs": [
    {
     "data": {
      "text/html": [
       "<div>\n",
       "<style scoped>\n",
       "    .dataframe tbody tr th:only-of-type {\n",
       "        vertical-align: middle;\n",
       "    }\n",
       "\n",
       "    .dataframe tbody tr th {\n",
       "        vertical-align: top;\n",
       "    }\n",
       "\n",
       "    .dataframe thead th {\n",
       "        text-align: right;\n",
       "    }\n",
       "</style>\n",
       "<table border=\"1\" class=\"dataframe\">\n",
       "  <thead>\n",
       "    <tr style=\"text-align: right;\">\n",
       "      <th></th>\n",
       "      <th>Activity, Exercise or Sport (1 hour)</th>\n",
       "      <th>59 kg</th>\n",
       "      <th>70 kg</th>\n",
       "      <th>82 kg</th>\n",
       "      <th>93 kg</th>\n",
       "      <th>Calories per kg</th>\n",
       "    </tr>\n",
       "  </thead>\n",
       "  <tbody>\n",
       "    <tr>\n",
       "      <th>10</th>\n",
       "      <td>Running, 8 mph (7.5 min mile)</td>\n",
       "      <td>797</td>\n",
       "      <td>950</td>\n",
       "      <td>1103</td>\n",
       "      <td>1256</td>\n",
       "      <td>13.518346</td>\n",
       "    </tr>\n",
       "    <tr>\n",
       "      <th>11</th>\n",
       "      <td>Running, 7.5mph (8 min mile)</td>\n",
       "      <td>738</td>\n",
       "      <td>880</td>\n",
       "      <td>1022</td>\n",
       "      <td>1163</td>\n",
       "      <td>12.517615</td>\n",
       "    </tr>\n",
       "    <tr>\n",
       "      <th>12</th>\n",
       "      <td>Skin diving, moderate</td>\n",
       "      <td>738</td>\n",
       "      <td>880</td>\n",
       "      <td>1022</td>\n",
       "      <td>1163</td>\n",
       "      <td>12.517615</td>\n",
       "    </tr>\n",
       "    <tr>\n",
       "      <th>13</th>\n",
       "      <td>Stationary cycling, very vigorous</td>\n",
       "      <td>738</td>\n",
       "      <td>880</td>\n",
       "      <td>1022</td>\n",
       "      <td>1163</td>\n",
       "      <td>12.517615</td>\n",
       "    </tr>\n",
       "    <tr>\n",
       "      <th>14</th>\n",
       "      <td>Cycling, 16-19 mph, very fast, racing</td>\n",
       "      <td>708</td>\n",
       "      <td>844</td>\n",
       "      <td>981</td>\n",
       "      <td>1117</td>\n",
       "      <td>12.008769</td>\n",
       "    </tr>\n",
       "    <tr>\n",
       "      <th>15</th>\n",
       "      <td>Jumping rope, fast</td>\n",
       "      <td>708</td>\n",
       "      <td>844</td>\n",
       "      <td>981</td>\n",
       "      <td>1117</td>\n",
       "      <td>12.008769</td>\n",
       "    </tr>\n",
       "    <tr>\n",
       "      <th>16</th>\n",
       "      <td>Boxing, in ring</td>\n",
       "      <td>708</td>\n",
       "      <td>844</td>\n",
       "      <td>981</td>\n",
       "      <td>1117</td>\n",
       "      <td>12.008769</td>\n",
       "    </tr>\n",
       "    <tr>\n",
       "      <th>17</th>\n",
       "      <td>Roller blading, in-line skating</td>\n",
       "      <td>708</td>\n",
       "      <td>844</td>\n",
       "      <td>981</td>\n",
       "      <td>1117</td>\n",
       "      <td>12.008769</td>\n",
       "    </tr>\n",
       "    <tr>\n",
       "      <th>18</th>\n",
       "      <td>Squash</td>\n",
       "      <td>708</td>\n",
       "      <td>844</td>\n",
       "      <td>981</td>\n",
       "      <td>1117</td>\n",
       "      <td>12.008769</td>\n",
       "    </tr>\n",
       "    <tr>\n",
       "      <th>19</th>\n",
       "      <td>Rowing machine, very vigorous</td>\n",
       "      <td>708</td>\n",
       "      <td>844</td>\n",
       "      <td>981</td>\n",
       "      <td>1117</td>\n",
       "      <td>12.008769</td>\n",
       "    </tr>\n",
       "  </tbody>\n",
       "</table>\n",
       "</div>"
      ],
      "text/plain": [
       "     Activity, Exercise or Sport (1 hour)  59 kg  70 kg  82 kg  93 kg  \\\n",
       "10          Running, 8 mph (7.5 min mile)    797    950   1103   1256   \n",
       "11           Running, 7.5mph (8 min mile)    738    880   1022   1163   \n",
       "12                  Skin diving, moderate    738    880   1022   1163   \n",
       "13      Stationary cycling, very vigorous    738    880   1022   1163   \n",
       "14  Cycling, 16-19 mph, very fast, racing    708    844    981   1117   \n",
       "15                     Jumping rope, fast    708    844    981   1117   \n",
       "16                        Boxing, in ring    708    844    981   1117   \n",
       "17        Roller blading, in-line skating    708    844    981   1117   \n",
       "18                                 Squash    708    844    981   1117   \n",
       "19          Rowing machine, very vigorous    708    844    981   1117   \n",
       "\n",
       "    Calories per kg  \n",
       "10        13.518346  \n",
       "11        12.517615  \n",
       "12        12.517615  \n",
       "13        12.517615  \n",
       "14        12.008769  \n",
       "15        12.008769  \n",
       "16        12.008769  \n",
       "17        12.008769  \n",
       "18        12.008769  \n",
       "19        12.008769  "
      ]
     },
     "execution_count": 116,
     "metadata": {},
     "output_type": "execute_result"
    }
   ],
   "source": [
    "sorted_by_best_exercises[(sorted_by_best_exercises.index >= 10) & (sorted_by_best_exercises.index < 20)]"
   ]
  },
  {
   "cell_type": "markdown",
   "metadata": {},
   "source": [
    "Jump rope is a great exercise as well so if you are able to do it it might not be a bad choice."
   ]
  },
  {
   "cell_type": "markdown",
   "metadata": {},
   "source": [
    "Let's explore the worst exercises, according to this dataset, for weight loss."
   ]
  },
  {
   "cell_type": "code",
   "execution_count": 118,
   "metadata": {},
   "outputs": [
    {
     "data": {
      "text/html": [
       "<div>\n",
       "<style scoped>\n",
       "    .dataframe tbody tr th:only-of-type {\n",
       "        vertical-align: middle;\n",
       "    }\n",
       "\n",
       "    .dataframe tbody tr th {\n",
       "        vertical-align: top;\n",
       "    }\n",
       "\n",
       "    .dataframe thead th {\n",
       "        text-align: right;\n",
       "    }\n",
       "</style>\n",
       "<table border=\"1\" class=\"dataframe\">\n",
       "  <thead>\n",
       "    <tr style=\"text-align: right;\">\n",
       "      <th></th>\n",
       "      <th>Activity, Exercise or Sport (1 hour)</th>\n",
       "      <th>59 kg</th>\n",
       "      <th>70 kg</th>\n",
       "      <th>82 kg</th>\n",
       "      <th>93 kg</th>\n",
       "      <th>Calories per kg</th>\n",
       "    </tr>\n",
       "  </thead>\n",
       "  <tbody>\n",
       "    <tr>\n",
       "      <th>0</th>\n",
       "      <td>Watering lawn or garden</td>\n",
       "      <td>89</td>\n",
       "      <td>106</td>\n",
       "      <td>123</td>\n",
       "      <td>140</td>\n",
       "      <td>1.509577</td>\n",
       "    </tr>\n",
       "    <tr>\n",
       "      <th>1</th>\n",
       "      <td>Walking, under 2.0 mph, very slow</td>\n",
       "      <td>118</td>\n",
       "      <td>141</td>\n",
       "      <td>163</td>\n",
       "      <td>186</td>\n",
       "      <td>2.001462</td>\n",
       "    </tr>\n",
       "    <tr>\n",
       "      <th>2</th>\n",
       "      <td>Walking 2.0 mph, slow</td>\n",
       "      <td>148</td>\n",
       "      <td>176</td>\n",
       "      <td>204</td>\n",
       "      <td>233</td>\n",
       "      <td>2.510308</td>\n",
       "    </tr>\n",
       "    <tr>\n",
       "      <th>3</th>\n",
       "      <td>Croquet</td>\n",
       "      <td>148</td>\n",
       "      <td>176</td>\n",
       "      <td>204</td>\n",
       "      <td>233</td>\n",
       "      <td>2.510308</td>\n",
       "    </tr>\n",
       "    <tr>\n",
       "      <th>4</th>\n",
       "      <td>Billiards</td>\n",
       "      <td>148</td>\n",
       "      <td>176</td>\n",
       "      <td>204</td>\n",
       "      <td>233</td>\n",
       "      <td>2.510308</td>\n",
       "    </tr>\n",
       "    <tr>\n",
       "      <th>5</th>\n",
       "      <td>Horseback riding, walking</td>\n",
       "      <td>148</td>\n",
       "      <td>176</td>\n",
       "      <td>204</td>\n",
       "      <td>233</td>\n",
       "      <td>2.510308</td>\n",
       "    </tr>\n",
       "    <tr>\n",
       "      <th>6</th>\n",
       "      <td>Bird watching</td>\n",
       "      <td>148</td>\n",
       "      <td>176</td>\n",
       "      <td>204</td>\n",
       "      <td>233</td>\n",
       "      <td>2.510308</td>\n",
       "    </tr>\n",
       "    <tr>\n",
       "      <th>7</th>\n",
       "      <td>Pushing stroller or walking with children</td>\n",
       "      <td>148</td>\n",
       "      <td>176</td>\n",
       "      <td>204</td>\n",
       "      <td>233</td>\n",
       "      <td>2.510308</td>\n",
       "    </tr>\n",
       "    <tr>\n",
       "      <th>8</th>\n",
       "      <td>Football or baseball, playing catch</td>\n",
       "      <td>148</td>\n",
       "      <td>176</td>\n",
       "      <td>204</td>\n",
       "      <td>233</td>\n",
       "      <td>2.510308</td>\n",
       "    </tr>\n",
       "    <tr>\n",
       "      <th>9</th>\n",
       "      <td>Mild stretching</td>\n",
       "      <td>148</td>\n",
       "      <td>176</td>\n",
       "      <td>204</td>\n",
       "      <td>233</td>\n",
       "      <td>2.510308</td>\n",
       "    </tr>\n",
       "  </tbody>\n",
       "</table>\n",
       "</div>"
      ],
      "text/plain": [
       "        Activity, Exercise or Sport (1 hour)  59 kg  70 kg  82 kg  93 kg  \\\n",
       "0                    Watering lawn or garden     89    106    123    140   \n",
       "1          Walking, under 2.0 mph, very slow    118    141    163    186   \n",
       "2                      Walking 2.0 mph, slow    148    176    204    233   \n",
       "3                                    Croquet    148    176    204    233   \n",
       "4                                  Billiards    148    176    204    233   \n",
       "5                  Horseback riding, walking    148    176    204    233   \n",
       "6                              Bird watching    148    176    204    233   \n",
       "7  Pushing stroller or walking with children    148    176    204    233   \n",
       "8        Football or baseball, playing catch    148    176    204    233   \n",
       "9                            Mild stretching    148    176    204    233   \n",
       "\n",
       "   Calories per kg  \n",
       "0         1.509577  \n",
       "1         2.001462  \n",
       "2         2.510308  \n",
       "3         2.510308  \n",
       "4         2.510308  \n",
       "5         2.510308  \n",
       "6         2.510308  \n",
       "7         2.510308  \n",
       "8         2.510308  \n",
       "9         2.510308  "
      ]
     },
     "execution_count": 118,
     "metadata": {},
     "output_type": "execute_result"
    }
   ],
   "source": [
    "sorted_by_worst_exercises = df.sort_values('Calories per kg', ascending=True)\n",
    "sorted_by_worst_exercises.index = np.arange(sorted_by_worst_exercises.__len__())\n",
    "sorted_by_worst_exercises.head(10)"
   ]
  },
  {
   "cell_type": "markdown",
   "metadata": {},
   "source": [
    "Yeah those certainly aren't great for weight loss..."
   ]
  },
  {
   "cell_type": "markdown",
   "metadata": {},
   "source": [
    "I thought about visualising this data but it would all just be skewed so I don't think there is much point."
   ]
  },
  {
   "cell_type": "code",
   "execution_count": 119,
   "metadata": {},
   "outputs": [
    {
     "data": {
      "text/plain": [
       "count    248.000000\n",
       "mean       6.610828\n",
       "std        3.297900\n",
       "min        1.509577\n",
       "25%        4.002923\n",
       "50%        6.004385\n",
       "75%        8.005846\n",
       "max       18.013154\n",
       "Name: Calories per kg, dtype: float64"
      ]
     },
     "execution_count": 119,
     "metadata": {},
     "output_type": "execute_result"
    }
   ],
   "source": [
    "df['Calories per kg'].describe()"
   ]
  },
  {
   "cell_type": "code",
   "execution_count": 120,
   "metadata": {},
   "outputs": [
    {
     "data": {
      "text/plain": [
       "16.504528"
      ]
     },
     "execution_count": 120,
     "metadata": {},
     "output_type": "execute_result"
    }
   ],
   "source": [
    "6.610828 + 3*3.297900"
   ]
  },
  {
   "cell_type": "code",
   "execution_count": 121,
   "metadata": {},
   "outputs": [
    {
     "data": {
      "text/plain": [
       "(2, 6)"
      ]
     },
     "execution_count": 121,
     "metadata": {},
     "output_type": "execute_result"
    }
   ],
   "source": [
    "df[df['Calories per kg'] > 16.504528].shape"
   ]
  },
  {
   "cell_type": "markdown",
   "metadata": {},
   "source": [
    "Even if I removed some 'outliers', if we can even label them outliers as they are perfectly normal exercises and I cant really remove them because they are good, the data would still be skewed. Also there are only 2 outliers so nothing would really change."
   ]
  }
 ],
 "metadata": {
  "kernelspec": {
   "display_name": "Python 3",
   "language": "python",
   "name": "python3"
  },
  "language_info": {
   "codemirror_mode": {
    "name": "ipython",
    "version": 3
   },
   "file_extension": ".py",
   "mimetype": "text/x-python",
   "name": "python",
   "nbconvert_exporter": "python",
   "pygments_lexer": "ipython3",
   "version": "3.12.0"
  }
 },
 "nbformat": 4,
 "nbformat_minor": 2
}
